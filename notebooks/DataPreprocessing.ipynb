{
  "nbformat": 4,
  "nbformat_minor": 0,
  "metadata": {
    "colab": {
      "provenance": []
    },
    "kernelspec": {
      "name": "python3",
      "display_name": "Python 3"
    },
    "language_info": {
      "name": "python"
    }
  },
  "cells": [
    {
      "cell_type": "markdown",
      "source": [
        "#Import Statements\n",
        "\n"
      ],
      "metadata": {
        "id": "OD64RaGGMOVl"
      }
    },
    {
      "cell_type": "code",
      "execution_count": 1,
      "metadata": {
        "id": "o2Mf9I6o8kFA"
      },
      "outputs": [],
      "source": [
        "import pandas as pd\n",
        "import numpy as np\n",
        "import matplotlib.pyplot as plt\n",
        "import seaborn as sns\n",
        "from sklearn.feature_selection import mutual_info_classif, mutual_info_regression\n",
        "from sklearn.model_selection import train_test_split\n",
        "from sklearn.preprocessing import StandardScaler\n",
        "from imblearn.over_sampling import SMOTE\n",
        "from collections import Counter"
      ]
    },
    {
      "cell_type": "markdown",
      "source": [
        "#Load Dataset"
      ],
      "metadata": {
        "id": "9J4WOhe8Mbo3"
      }
    },
    {
      "cell_type": "code",
      "source": [
        "#from google.colab import files\n",
        "#uploaded = files.upload()\n",
        "\n",
        "df = pd.read_csv('Bank_Transaction_Fraud_Detection.csv')"
      ],
      "metadata": {
        "id": "nRcCdB2MManz"
      },
      "execution_count": 2,
      "outputs": []
    },
    {
      "cell_type": "markdown",
      "source": [
        "# Data Cleaning"
      ],
      "metadata": {
        "id": "D3zjICnOP5xw"
      }
    },
    {
      "cell_type": "markdown",
      "source": [
        "## Check for Missing Values"
      ],
      "metadata": {
        "id": "2A4NAZAnP7Rt"
      }
    },
    {
      "cell_type": "code",
      "source": [
        "print(df.isna().sum())"
      ],
      "metadata": {
        "colab": {
          "base_uri": "https://localhost:8080/"
        },
        "id": "OWuKGQcPQEwT",
        "outputId": "79c1a9dd-7e36-4251-b7b6-12d14edd602c"
      },
      "execution_count": 3,
      "outputs": [
        {
          "output_type": "stream",
          "name": "stdout",
          "text": [
            "Customer_ID                0\n",
            "Customer_Name              0\n",
            "Gender                     0\n",
            "Age                        0\n",
            "State                      0\n",
            "City                       0\n",
            "Bank_Branch                0\n",
            "Account_Type               0\n",
            "Transaction_ID             0\n",
            "Transaction_Date           0\n",
            "Transaction_Time           0\n",
            "Transaction_Amount         0\n",
            "Merchant_ID                0\n",
            "Transaction_Type           0\n",
            "Merchant_Category          0\n",
            "Account_Balance            0\n",
            "Transaction_Device         0\n",
            "Transaction_Location       0\n",
            "Device_Type                0\n",
            "Is_Fraud                   0\n",
            "Transaction_Currency       0\n",
            "Customer_Contact           0\n",
            "Transaction_Description    0\n",
            "Customer_Email             0\n",
            "dtype: int64\n"
          ]
        }
      ]
    },
    {
      "cell_type": "markdown",
      "source": [
        "## Drop Irrelevant Columns"
      ],
      "metadata": {
        "id": "XxDKyfN4P-o8"
      }
    },
    {
      "cell_type": "code",
      "source": [
        "print(df.columns.tolist())\n",
        "\n",
        "#drop columns\n",
        "df = df.drop(columns=[\"Customer_ID\", \"Customer_Name\", \"Bank_Branch\", \"Transaction_ID\", \"Merchant_ID\", \"Transaction_Currency\", \"Customer_Contact\", \"Customer_Email\"])\n",
        "print(df.columns.tolist())\n",
        "\n",
        "X = df.drop(\"Is_Fraud\", axis=1)\n",
        "y = df[\"Is_Fraud\"]\n"
      ],
      "metadata": {
        "colab": {
          "base_uri": "https://localhost:8080/"
        },
        "id": "AOWIfpZnNDSo",
        "outputId": "a530eea6-5fea-4b2c-9fd3-8f92bf561b5e"
      },
      "execution_count": 4,
      "outputs": [
        {
          "output_type": "stream",
          "name": "stdout",
          "text": [
            "['Customer_ID', 'Customer_Name', 'Gender', 'Age', 'State', 'City', 'Bank_Branch', 'Account_Type', 'Transaction_ID', 'Transaction_Date', 'Transaction_Time', 'Transaction_Amount', 'Merchant_ID', 'Transaction_Type', 'Merchant_Category', 'Account_Balance', 'Transaction_Device', 'Transaction_Location', 'Device_Type', 'Is_Fraud', 'Transaction_Currency', 'Customer_Contact', 'Transaction_Description', 'Customer_Email']\n",
            "['Gender', 'Age', 'State', 'City', 'Account_Type', 'Transaction_Date', 'Transaction_Time', 'Transaction_Amount', 'Transaction_Type', 'Merchant_Category', 'Account_Balance', 'Transaction_Device', 'Transaction_Location', 'Device_Type', 'Is_Fraud', 'Transaction_Description']\n"
          ]
        }
      ]
    },
    {
      "cell_type": "markdown",
      "source": [
        "# Train-val-test split"
      ],
      "metadata": {
        "id": "iKkspfeHQROR"
      }
    },
    {
      "cell_type": "code",
      "source": [
        "# Train 70%, validation 10%, test 20%\n",
        "X_train, X_temp, y_train, y_temp = train_test_split(\n",
        "    X, y, test_size=0.3, random_state=42, stratify=y\n",
        ")\n",
        "X_val, X_test, y_val, y_test = train_test_split(\n",
        "    X_temp, y_temp, test_size=2/3, random_state=42, stratify=y_temp\n",
        ")"
      ],
      "metadata": {
        "id": "8sPiFo20QPwA"
      },
      "execution_count": 5,
      "outputs": []
    },
    {
      "cell_type": "markdown",
      "source": [
        "#Feature Engineering"
      ],
      "metadata": {
        "id": "RD03WGCOQRhv"
      }
    },
    {
      "cell_type": "markdown",
      "source": [
        "## One-Hot Encoding for Categorical Variables (Low Cardinality)"
      ],
      "metadata": {
        "id": "xs7wDCjrS5od"
      }
    },
    {
      "cell_type": "code",
      "source": [
        "# Binary Encoding for Gender\n",
        "for df in [X_train, X_val, X_test]:\n",
        "    df[\"Gender\"] = df[\"Gender\"].map({\"Male\": 1, \"Female\": 0})"
      ],
      "metadata": {
        "id": "ABgAmwgCTBB2"
      },
      "execution_count": 6,
      "outputs": []
    },
    {
      "cell_type": "code",
      "source": [
        "cat_cols = [\"Account_Type\", \"Merchant_Category\", \"Transaction_Type\", \"Device_Type\"]\n",
        "\n",
        "# One-hot encode train\n",
        "X_train = pd.get_dummies(X_train, columns=cat_cols, drop_first=False)\n",
        "\n",
        "# One-hot encode val and test\n",
        "X_val = pd.get_dummies(X_val, columns=cat_cols, drop_first=False)\n",
        "X_test = pd.get_dummies(X_test, columns=cat_cols, drop_first=False)\n",
        "\n",
        "# Align columns\n",
        "X_val = X_val.reindex(columns=X_train.columns, fill_value=0)\n",
        "X_test = X_test.reindex(columns=X_train.columns, fill_value=0)\n",
        "\n",
        "# pd.get_dummies automatically replaces the original columns with the new dummy columns so don't need to drop original columns already"
      ],
      "metadata": {
        "id": "4ftdsV7ZTBwa"
      },
      "execution_count": 7,
      "outputs": []
    },
    {
      "cell_type": "code",
      "source": [
        "print(X_train)"
      ],
      "metadata": {
        "colab": {
          "base_uri": "https://localhost:8080/"
        },
        "id": "mPtYUuE_TL6M",
        "outputId": "3518453c-5578-4409-f16c-0d3dc4316cbf"
      },
      "execution_count": 8,
      "outputs": [
        {
          "output_type": "stream",
          "name": "stdout",
          "text": [
            "        Gender  Age              State                City Transaction_Date  \\\n",
            "68286        0   54            Manipur             Thoubal       16-01-2025   \n",
            "194655       0   40         Puducherry            Karaikal       29-01-2025   \n",
            "46200        0   20         Puducherry               Yanam       02-01-2025   \n",
            "53297        0   64            Haryana              Ambala       18-01-2025   \n",
            "54636        0   28        West Bengal             Asansol       01-01-2025   \n",
            "...        ...  ...                ...                 ...              ...   \n",
            "105337       0   28             Odisha             Cuttack       15-01-2025   \n",
            "11544        1   19              Bihar              Munger       22-01-2025   \n",
            "145077       0   41             Kerala  Thiruvananthapuram       12-01-2025   \n",
            "108017       1   61             Kerala               Kochi       02-01-2025   \n",
            "157724       0   61  Arunachal Pradesh            Itanagar       11-01-2025   \n",
            "\n",
            "       Transaction_Time  Transaction_Amount  Account_Balance  \\\n",
            "68286          06:25:10              534.59         13373.15   \n",
            "194655         09:53:47            92813.86         91579.34   \n",
            "46200          11:01:43            78998.52          5053.04   \n",
            "53297          01:59:13             7724.99         17567.65   \n",
            "54636          00:20:11            49989.89         70304.65   \n",
            "...                 ...                 ...              ...   \n",
            "105337         02:35:42            39126.04         43350.86   \n",
            "11544          18:56:36            80183.84         25527.36   \n",
            "145077         14:57:55            53412.59         47906.23   \n",
            "108017         02:22:04            67254.48         79696.72   \n",
            "157724         22:00:28            30464.21         25614.94   \n",
            "\n",
            "                  Transaction_Device         Transaction_Location  ...  \\\n",
            "68286              Biometric Scanner             Thoubal, Manipur  ...   \n",
            "194655                           ATM         Karaikal, Puducherry  ...   \n",
            "46200                ATM Booth Kiosk            Yanam, Puducherry  ...   \n",
            "53297              POS Mobile Device              Ambala, Haryana  ...   \n",
            "54636                 POS Mobile App         Asansol, West Bengal  ...   \n",
            "...                              ...                          ...  ...   \n",
            "105337                  Virtual Card              Cuttack, Odisha  ...   \n",
            "11544                ATM Booth Kiosk                Munger, Bihar  ...   \n",
            "145077               ATM Booth Kiosk   Thiruvananthapuram, Kerala  ...   \n",
            "108017  Self-service Banking Machine                Kochi, Kerala  ...   \n",
            "157724               Wearable Device  Itanagar, Arunachal Pradesh  ...   \n",
            "\n",
            "       Merchant_Category_Restaurant  Transaction_Type_Bill Payment  \\\n",
            "68286                         False                          False   \n",
            "194655                         True                          False   \n",
            "46200                         False                           True   \n",
            "53297                         False                           True   \n",
            "54636                         False                          False   \n",
            "...                             ...                            ...   \n",
            "105337                        False                          False   \n",
            "11544                         False                          False   \n",
            "145077                         True                          False   \n",
            "108017                        False                          False   \n",
            "157724                        False                           True   \n",
            "\n",
            "        Transaction_Type_Credit  Transaction_Type_Debit  \\\n",
            "68286                      True                   False   \n",
            "194655                    False                   False   \n",
            "46200                     False                   False   \n",
            "53297                     False                   False   \n",
            "54636                     False                   False   \n",
            "...                         ...                     ...   \n",
            "105337                    False                    True   \n",
            "11544                     False                   False   \n",
            "145077                     True                   False   \n",
            "108017                    False                   False   \n",
            "157724                    False                   False   \n",
            "\n",
            "        Transaction_Type_Transfer  Transaction_Type_Withdrawal  \\\n",
            "68286                       False                        False   \n",
            "194655                      False                         True   \n",
            "46200                       False                        False   \n",
            "53297                       False                        False   \n",
            "54636                        True                        False   \n",
            "...                           ...                          ...   \n",
            "105337                      False                        False   \n",
            "11544                       False                         True   \n",
            "145077                      False                        False   \n",
            "108017                      False                         True   \n",
            "157724                      False                        False   \n",
            "\n",
            "        Device_Type_ATM  Device_Type_Desktop  Device_Type_Mobile  \\\n",
            "68286             False                False                True   \n",
            "194655             True                False               False   \n",
            "46200             False                 True               False   \n",
            "53297             False                False               False   \n",
            "54636             False                False                True   \n",
            "...                 ...                  ...                 ...   \n",
            "105337             True                False               False   \n",
            "11544             False                 True               False   \n",
            "145077            False                False                True   \n",
            "108017            False                 True               False   \n",
            "157724             True                False               False   \n",
            "\n",
            "        Device_Type_POS  \n",
            "68286             False  \n",
            "194655            False  \n",
            "46200             False  \n",
            "53297              True  \n",
            "54636             False  \n",
            "...                 ...  \n",
            "105337            False  \n",
            "11544             False  \n",
            "145077            False  \n",
            "108017            False  \n",
            "157724            False  \n",
            "\n",
            "[140000 rows x 29 columns]\n"
          ]
        }
      ]
    },
    {
      "cell_type": "code",
      "source": [
        "# Convert bool to Binary\n",
        "bool_cols_train = X_train.select_dtypes(include='bool').columns\n",
        "X_train[bool_cols_train] = X_train[bool_cols_train].astype(int)\n",
        "\n",
        "bool_cols_val = X_val.select_dtypes(include='bool').columns\n",
        "X_val[bool_cols_val] = X_val[bool_cols_val].astype(int)\n",
        "\n",
        "bool_cols_test = X_test.select_dtypes(include='bool').columns\n",
        "X_test[bool_cols_test] = X_test[bool_cols_test].astype(int)"
      ],
      "metadata": {
        "id": "jMCEAp3lNjp2"
      },
      "execution_count": 9,
      "outputs": []
    },
    {
      "cell_type": "code",
      "source": [
        "print(X_train.info())\n",
        "print(X_val.info())\n",
        "print(X_test.info())"
      ],
      "metadata": {
        "colab": {
          "base_uri": "https://localhost:8080/"
        },
        "id": "D_P4Zu2fNstn",
        "outputId": "41161e0e-b67e-4cfb-9f7a-f228b73c756d"
      },
      "execution_count": 10,
      "outputs": [
        {
          "output_type": "stream",
          "name": "stdout",
          "text": [
            "<class 'pandas.core.frame.DataFrame'>\n",
            "Index: 140000 entries, 68286 to 157724\n",
            "Data columns (total 29 columns):\n",
            " #   Column                           Non-Null Count   Dtype  \n",
            "---  ------                           --------------   -----  \n",
            " 0   Gender                           140000 non-null  int64  \n",
            " 1   Age                              140000 non-null  int64  \n",
            " 2   State                            140000 non-null  object \n",
            " 3   City                             140000 non-null  object \n",
            " 4   Transaction_Date                 140000 non-null  object \n",
            " 5   Transaction_Time                 140000 non-null  object \n",
            " 6   Transaction_Amount               140000 non-null  float64\n",
            " 7   Account_Balance                  140000 non-null  float64\n",
            " 8   Transaction_Device               140000 non-null  object \n",
            " 9   Transaction_Location             140000 non-null  object \n",
            " 10  Transaction_Description          140000 non-null  object \n",
            " 11  Account_Type_Business            140000 non-null  int64  \n",
            " 12  Account_Type_Checking            140000 non-null  int64  \n",
            " 13  Account_Type_Savings             140000 non-null  int64  \n",
            " 14  Merchant_Category_Clothing       140000 non-null  int64  \n",
            " 15  Merchant_Category_Electronics    140000 non-null  int64  \n",
            " 16  Merchant_Category_Entertainment  140000 non-null  int64  \n",
            " 17  Merchant_Category_Groceries      140000 non-null  int64  \n",
            " 18  Merchant_Category_Health         140000 non-null  int64  \n",
            " 19  Merchant_Category_Restaurant     140000 non-null  int64  \n",
            " 20  Transaction_Type_Bill Payment    140000 non-null  int64  \n",
            " 21  Transaction_Type_Credit          140000 non-null  int64  \n",
            " 22  Transaction_Type_Debit           140000 non-null  int64  \n",
            " 23  Transaction_Type_Transfer        140000 non-null  int64  \n",
            " 24  Transaction_Type_Withdrawal      140000 non-null  int64  \n",
            " 25  Device_Type_ATM                  140000 non-null  int64  \n",
            " 26  Device_Type_Desktop              140000 non-null  int64  \n",
            " 27  Device_Type_Mobile               140000 non-null  int64  \n",
            " 28  Device_Type_POS                  140000 non-null  int64  \n",
            "dtypes: float64(2), int64(20), object(7)\n",
            "memory usage: 32.0+ MB\n",
            "None\n",
            "<class 'pandas.core.frame.DataFrame'>\n",
            "Index: 20000 entries, 188134 to 170858\n",
            "Data columns (total 29 columns):\n",
            " #   Column                           Non-Null Count  Dtype  \n",
            "---  ------                           --------------  -----  \n",
            " 0   Gender                           20000 non-null  int64  \n",
            " 1   Age                              20000 non-null  int64  \n",
            " 2   State                            20000 non-null  object \n",
            " 3   City                             20000 non-null  object \n",
            " 4   Transaction_Date                 20000 non-null  object \n",
            " 5   Transaction_Time                 20000 non-null  object \n",
            " 6   Transaction_Amount               20000 non-null  float64\n",
            " 7   Account_Balance                  20000 non-null  float64\n",
            " 8   Transaction_Device               20000 non-null  object \n",
            " 9   Transaction_Location             20000 non-null  object \n",
            " 10  Transaction_Description          20000 non-null  object \n",
            " 11  Account_Type_Business            20000 non-null  int64  \n",
            " 12  Account_Type_Checking            20000 non-null  int64  \n",
            " 13  Account_Type_Savings             20000 non-null  int64  \n",
            " 14  Merchant_Category_Clothing       20000 non-null  int64  \n",
            " 15  Merchant_Category_Electronics    20000 non-null  int64  \n",
            " 16  Merchant_Category_Entertainment  20000 non-null  int64  \n",
            " 17  Merchant_Category_Groceries      20000 non-null  int64  \n",
            " 18  Merchant_Category_Health         20000 non-null  int64  \n",
            " 19  Merchant_Category_Restaurant     20000 non-null  int64  \n",
            " 20  Transaction_Type_Bill Payment    20000 non-null  int64  \n",
            " 21  Transaction_Type_Credit          20000 non-null  int64  \n",
            " 22  Transaction_Type_Debit           20000 non-null  int64  \n",
            " 23  Transaction_Type_Transfer        20000 non-null  int64  \n",
            " 24  Transaction_Type_Withdrawal      20000 non-null  int64  \n",
            " 25  Device_Type_ATM                  20000 non-null  int64  \n",
            " 26  Device_Type_Desktop              20000 non-null  int64  \n",
            " 27  Device_Type_Mobile               20000 non-null  int64  \n",
            " 28  Device_Type_POS                  20000 non-null  int64  \n",
            "dtypes: float64(2), int64(20), object(7)\n",
            "memory usage: 4.6+ MB\n",
            "None\n",
            "<class 'pandas.core.frame.DataFrame'>\n",
            "Index: 40000 entries, 42468 to 115482\n",
            "Data columns (total 29 columns):\n",
            " #   Column                           Non-Null Count  Dtype  \n",
            "---  ------                           --------------  -----  \n",
            " 0   Gender                           40000 non-null  int64  \n",
            " 1   Age                              40000 non-null  int64  \n",
            " 2   State                            40000 non-null  object \n",
            " 3   City                             40000 non-null  object \n",
            " 4   Transaction_Date                 40000 non-null  object \n",
            " 5   Transaction_Time                 40000 non-null  object \n",
            " 6   Transaction_Amount               40000 non-null  float64\n",
            " 7   Account_Balance                  40000 non-null  float64\n",
            " 8   Transaction_Device               40000 non-null  object \n",
            " 9   Transaction_Location             40000 non-null  object \n",
            " 10  Transaction_Description          40000 non-null  object \n",
            " 11  Account_Type_Business            40000 non-null  int64  \n",
            " 12  Account_Type_Checking            40000 non-null  int64  \n",
            " 13  Account_Type_Savings             40000 non-null  int64  \n",
            " 14  Merchant_Category_Clothing       40000 non-null  int64  \n",
            " 15  Merchant_Category_Electronics    40000 non-null  int64  \n",
            " 16  Merchant_Category_Entertainment  40000 non-null  int64  \n",
            " 17  Merchant_Category_Groceries      40000 non-null  int64  \n",
            " 18  Merchant_Category_Health         40000 non-null  int64  \n",
            " 19  Merchant_Category_Restaurant     40000 non-null  int64  \n",
            " 20  Transaction_Type_Bill Payment    40000 non-null  int64  \n",
            " 21  Transaction_Type_Credit          40000 non-null  int64  \n",
            " 22  Transaction_Type_Debit           40000 non-null  int64  \n",
            " 23  Transaction_Type_Transfer        40000 non-null  int64  \n",
            " 24  Transaction_Type_Withdrawal      40000 non-null  int64  \n",
            " 25  Device_Type_ATM                  40000 non-null  int64  \n",
            " 26  Device_Type_Desktop              40000 non-null  int64  \n",
            " 27  Device_Type_Mobile               40000 non-null  int64  \n",
            " 28  Device_Type_POS                  40000 non-null  int64  \n",
            "dtypes: float64(2), int64(20), object(7)\n",
            "memory usage: 9.2+ MB\n",
            "None\n"
          ]
        }
      ]
    },
    {
      "cell_type": "markdown",
      "source": [
        "## Top K Encoding for City (High Cardinality)"
      ],
      "metadata": {
        "id": "-fXAAUKJTkgj"
      }
    },
    {
      "cell_type": "code",
      "source": [
        "plt.figure(figsize=(8,6))\n",
        "sns.countplot(data=df, x='City', order=df['City'].value_counts().index)\n",
        "plt.title(\"Frequency Distribution of City\")\n",
        "plt.xlabel(\"City\")\n",
        "plt.ylabel(\"Count\")\n",
        "plt.show()\n",
        "\n",
        "# Top 3 Encoding for City\n",
        "top3_cities = X_train[\"City\"].value_counts().nlargest(3).index\n",
        "for df in [X_train, X_val, X_test]:\n",
        "    for city in top3_cities:\n",
        "        df[f\"City_{city}\"] = (df[\"City\"] == city).astype(int)\n",
        "    df[\"City_Other\"] = (~df[\"City\"].isin(top3_cities)).astype(int)"
      ],
      "metadata": {
        "id": "NGTrJ9N2T1k0",
        "colab": {
          "base_uri": "https://localhost:8080/",
          "height": 564
        },
        "outputId": "855ca8cd-8a5f-470e-c1a3-5415963962da"
      },
      "execution_count": 11,
      "outputs": [
        {
          "output_type": "display_data",
          "data": {
            "text/plain": [
              "<Figure size 800x600 with 1 Axes>"
            ],
            "image/png": "[encoded data removed]"
          },
          "metadata": {}
        }
      ]
    },
    {
      "cell_type": "code",
      "source": [
        "X_train.drop(columns=[\"City\"], inplace=True)\n",
        "X_val.drop(columns=[\"City\"], inplace=True)\n",
        "X_test.drop(columns=[\"City\"], inplace=True)"
      ],
      "metadata": {
        "id": "FXW6Wy2if2xI"
      },
      "execution_count": 12,
      "outputs": []
    },
    {
      "cell_type": "code",
      "source": [
        "print(X_train.head())"
      ],
      "metadata": {
        "colab": {
          "base_uri": "https://localhost:8080/"
        },
        "id": "tzC9Hrw9U12D",
        "outputId": "280cb310-ec8d-432a-9902-25a094e83db1"
      },
      "execution_count": 13,
      "outputs": [
        {
          "output_type": "stream",
          "name": "stdout",
          "text": [
            "        Gender  Age        State Transaction_Date Transaction_Time  \\\n",
            "68286        0   54      Manipur       16-01-2025         06:25:10   \n",
            "194655       0   40   Puducherry       29-01-2025         09:53:47   \n",
            "46200        0   20   Puducherry       02-01-2025         11:01:43   \n",
            "53297        0   64      Haryana       18-01-2025         01:59:13   \n",
            "54636        0   28  West Bengal       01-01-2025         00:20:11   \n",
            "\n",
            "        Transaction_Amount  Account_Balance Transaction_Device  \\\n",
            "68286               534.59         13373.15  Biometric Scanner   \n",
            "194655            92813.86         91579.34                ATM   \n",
            "46200             78998.52          5053.04    ATM Booth Kiosk   \n",
            "53297              7724.99         17567.65  POS Mobile Device   \n",
            "54636             49989.89         70304.65     POS Mobile App   \n",
            "\n",
            "        Transaction_Location Transaction_Description  ...  \\\n",
            "68286       Thoubal, Manipur         Insurance claim  ...   \n",
            "194655  Karaikal, Puducherry            Taxi booking  ...   \n",
            "46200      Yanam, Puducherry  Student loan repayment  ...   \n",
            "53297        Ambala, Haryana      Healthcare premium  ...   \n",
            "54636   Asansol, West Bengal         Online shopping  ...   \n",
            "\n",
            "        Transaction_Type_Transfer  Transaction_Type_Withdrawal  \\\n",
            "68286                           0                            0   \n",
            "194655                          0                            1   \n",
            "46200                           0                            0   \n",
            "53297                           0                            0   \n",
            "54636                           1                            0   \n",
            "\n",
            "        Device_Type_ATM  Device_Type_Desktop  Device_Type_Mobile  \\\n",
            "68286                 0                    0                   1   \n",
            "194655                1                    0                   0   \n",
            "46200                 0                    1                   0   \n",
            "53297                 0                    0                   0   \n",
            "54636                 0                    0                   1   \n",
            "\n",
            "        Device_Type_POS  City_Chandigarh  City_Kavaratti  City_Udaipur  \\\n",
            "68286                 0                0               0             0   \n",
            "194655                0                0               0             0   \n",
            "46200                 0                0               0             0   \n",
            "53297                 1                0               0             0   \n",
            "54636                 0                0               0             0   \n",
            "\n",
            "        City_Other  \n",
            "68286            1  \n",
            "194655           1  \n",
            "46200            1  \n",
            "53297            1  \n",
            "54636            1  \n",
            "\n",
            "[5 rows x 32 columns]\n"
          ]
        }
      ]
    },
    {
      "cell_type": "markdown",
      "source": [
        "## Handling Temporal Features"
      ],
      "metadata": {
        "id": "4XUFfl6GT_0v"
      }
    },
    {
      "cell_type": "code",
      "source": [
        "# Cyclic Encoding for Transaction_Date\n",
        "for df in [X_train, X_val, X_test]:\n",
        "    df[\"Transaction_Date\"] = pd.to_datetime(df[\"Transaction_Date\"], errors=\"coerce\", dayfirst=True)\n",
        "    df[\"DayOfWeek\"] = df[\"Transaction_Date\"].dt.dayofweek  # Monday=0, Sunday=6\n",
        "    df[\"DayOfWeek_sin\"] = np.sin(2 * np.pi * df[\"DayOfWeek\"] / 7)\n",
        "    df[\"DayOfWeek_cos\"] = np.cos(2 * np.pi * df[\"DayOfWeek\"] / 7)\n",
        "\n",
        "# Minutes after Midnight for Transaction_Time (works better for Tree-based such as RF, XGBoost, LightGBM, CatBoost)\n",
        "for df in [X_train, X_val, X_test]:\n",
        "    df[\"Transaction_Time\"] = pd.to_datetime(df[\"Transaction_Time\"], format='%H:%M:%S', errors='coerce').dt.time\n",
        "    df[\"Minutes_After_Midnight\"] = df[\"Transaction_Time\"].apply(\n",
        "        lambda x: x.hour * 60 + x.minute if pd.notnull(x) else np.nan\n",
        "    )\n",
        "\n",
        "    # Cyclic encoding (works better for logistic regression and neural networks)\n",
        "    df[\"Time_sin\"] = np.sin(2 * np.pi * df[\"Minutes_After_Midnight\"] / 1440)\n",
        "    df[\"Time_cos\"] = np.cos(2 * np.pi * df[\"Minutes_After_Midnight\"] / 1440)"
      ],
      "metadata": {
        "id": "d-aIx_jhUtqu"
      },
      "execution_count": 14,
      "outputs": []
    },
    {
      "cell_type": "code",
      "source": [
        "X_train.drop(columns=[\"Transaction_Date\", \"Transaction_Time\"], inplace=True)\n",
        "X_val.drop(columns=[\"Transaction_Date\", \"Transaction_Time\"], inplace=True)\n",
        "X_test.drop(columns=[\"Transaction_Date\", \"Transaction_Time\"], inplace=True)"
      ],
      "metadata": {
        "id": "bCF0AspzfuNg"
      },
      "execution_count": 15,
      "outputs": []
    },
    {
      "cell_type": "code",
      "source": [
        "print(X_train.shape)\n",
        "print(X_val.shape)\n",
        "print(X_test.shape)"
      ],
      "metadata": {
        "colab": {
          "base_uri": "https://localhost:8080/"
        },
        "id": "Ho2zwhLimT2f",
        "outputId": "c6ae6deb-c5a7-4514-d5d5-468bc07e59e5"
      },
      "execution_count": 16,
      "outputs": [
        {
          "output_type": "stream",
          "name": "stdout",
          "text": [
            "(140000, 36)\n",
            "(20000, 36)\n",
            "(40000, 36)\n"
          ]
        }
      ]
    },
    {
      "cell_type": "code",
      "source": [
        "print(X_train.info())"
      ],
      "metadata": {
        "colab": {
          "base_uri": "https://localhost:8080/"
        },
        "id": "z1tCqS4yOBJQ",
        "outputId": "e83eafab-b3ec-4cdf-de23-41d657a17c1f"
      },
      "execution_count": 17,
      "outputs": [
        {
          "output_type": "stream",
          "name": "stdout",
          "text": [
            "<class 'pandas.core.frame.DataFrame'>\n",
            "Index: 140000 entries, 68286 to 157724\n",
            "Data columns (total 36 columns):\n",
            " #   Column                           Non-Null Count   Dtype  \n",
            "---  ------                           --------------   -----  \n",
            " 0   Gender                           140000 non-null  int64  \n",
            " 1   Age                              140000 non-null  int64  \n",
            " 2   State                            140000 non-null  object \n",
            " 3   Transaction_Amount               140000 non-null  float64\n",
            " 4   Account_Balance                  140000 non-null  float64\n",
            " 5   Transaction_Device               140000 non-null  object \n",
            " 6   Transaction_Location             140000 non-null  object \n",
            " 7   Transaction_Description          140000 non-null  object \n",
            " 8   Account_Type_Business            140000 non-null  int64  \n",
            " 9   Account_Type_Checking            140000 non-null  int64  \n",
            " 10  Account_Type_Savings             140000 non-null  int64  \n",
            " 11  Merchant_Category_Clothing       140000 non-null  int64  \n",
            " 12  Merchant_Category_Electronics    140000 non-null  int64  \n",
            " 13  Merchant_Category_Entertainment  140000 non-null  int64  \n",
            " 14  Merchant_Category_Groceries      140000 non-null  int64  \n",
            " 15  Merchant_Category_Health         140000 non-null  int64  \n",
            " 16  Merchant_Category_Restaurant     140000 non-null  int64  \n",
            " 17  Transaction_Type_Bill Payment    140000 non-null  int64  \n",
            " 18  Transaction_Type_Credit          140000 non-null  int64  \n",
            " 19  Transaction_Type_Debit           140000 non-null  int64  \n",
            " 20  Transaction_Type_Transfer        140000 non-null  int64  \n",
            " 21  Transaction_Type_Withdrawal      140000 non-null  int64  \n",
            " 22  Device_Type_ATM                  140000 non-null  int64  \n",
            " 23  Device_Type_Desktop              140000 non-null  int64  \n",
            " 24  Device_Type_Mobile               140000 non-null  int64  \n",
            " 25  Device_Type_POS                  140000 non-null  int64  \n",
            " 26  City_Chandigarh                  140000 non-null  int64  \n",
            " 27  City_Kavaratti                   140000 non-null  int64  \n",
            " 28  City_Udaipur                     140000 non-null  int64  \n",
            " 29  City_Other                       140000 non-null  int64  \n",
            " 30  DayOfWeek                        140000 non-null  int32  \n",
            " 31  DayOfWeek_sin                    140000 non-null  float64\n",
            " 32  DayOfWeek_cos                    140000 non-null  float64\n",
            " 33  Minutes_After_Midnight           140000 non-null  int64  \n",
            " 34  Time_sin                         140000 non-null  float64\n",
            " 35  Time_cos                         140000 non-null  float64\n",
            "dtypes: float64(6), int32(1), int64(25), object(4)\n",
            "memory usage: 39.0+ MB\n",
            "None\n"
          ]
        }
      ]
    },
    {
      "cell_type": "markdown",
      "source": [
        "## Create New Ratio Feature"
      ],
      "metadata": {
        "id": "oXVBtf9EVSog"
      }
    },
    {
      "cell_type": "code",
      "source": [
        "# Ratio features with Transaction_Amount\n",
        "X_train[\"Balance_to_Amount_Ratio\"] = X_train[\"Account_Balance\"] / X_train[\"Transaction_Amount\"]\n",
        "X_val[\"Balance_to_Amount_Ratio\"] = X_val[\"Account_Balance\"] / X_val[\"Transaction_Amount\"]\n",
        "X_test[\"Balance_to_Amount_Ratio\"] = X_test[\"Account_Balance\"] / X_test[\"Transaction_Amount\"]"
      ],
      "metadata": {
        "id": "dbDyqUwYVdR0"
      },
      "execution_count": 18,
      "outputs": []
    },
    {
      "cell_type": "code",
      "source": [
        "print(X_train.shape)\n",
        "print(X_val.shape)\n",
        "print(X_test.shape)"
      ],
      "metadata": {
        "colab": {
          "base_uri": "https://localhost:8080/"
        },
        "id": "MUw_uW9lme2M",
        "outputId": "3a5da9ec-5cc8-449b-c804-9282dde03e54"
      },
      "execution_count": 19,
      "outputs": [
        {
          "output_type": "stream",
          "name": "stdout",
          "text": [
            "(140000, 37)\n",
            "(20000, 37)\n",
            "(40000, 37)\n"
          ]
        }
      ]
    },
    {
      "cell_type": "markdown",
      "source": [
        "## Target Encoding for High Cardinality Categorical Variables"
      ],
      "metadata": {
        "id": "Q7riCLSdVifn"
      }
    },
    {
      "cell_type": "code",
      "source": [
        "# Target encoding\n",
        "for col in [\"State\", \"Transaction_Device\", \"Transaction_Location\", \"Transaction_Description\"]:\n",
        "    target_map = X_train.join(y_train).groupby(col)[\"Is_Fraud\"].mean()\n",
        "    X_train[col + \"_TE\"] = X_train[col].map(target_map)\n",
        "    X_val[col + \"_TE\"] = X_val[col].map(target_map).fillna(0)  # unseen categories → 0\n",
        "    X_test[col + \"_TE\"] = X_test[col].map(target_map).fillna(0)"
      ],
      "metadata": {
        "id": "kbipiIOeV0Mv"
      },
      "execution_count": 20,
      "outputs": []
    },
    {
      "cell_type": "code",
      "source": [
        "X_train.drop(columns=[\"State\", \"Transaction_Device\",\"Transaction_Location\",\"Transaction_Description\"], inplace=True)\n",
        "X_val.drop(columns=[\"State\", \"Transaction_Device\",\"Transaction_Location\",\"Transaction_Description\"], inplace=True)\n",
        "X_test.drop(columns=[\"State\", \"Transaction_Device\",\"Transaction_Location\",\"Transaction_Description\"], inplace=True)"
      ],
      "metadata": {
        "id": "wkcxW0hGV2mz"
      },
      "execution_count": 21,
      "outputs": []
    },
    {
      "cell_type": "code",
      "source": [
        "print(X_train.shape)\n",
        "print(X_val.shape)\n",
        "print(X_test.shape)"
      ],
      "metadata": {
        "colab": {
          "base_uri": "https://localhost:8080/"
        },
        "id": "2NOzC4nYmiaS",
        "outputId": "3bd0514f-c34f-4755-b749-04ff00974053"
      },
      "execution_count": 22,
      "outputs": [
        {
          "output_type": "stream",
          "name": "stdout",
          "text": [
            "(140000, 37)\n",
            "(20000, 37)\n",
            "(40000, 37)\n"
          ]
        }
      ]
    },
    {
      "cell_type": "code",
      "source": [
        "print(X_train.info())"
      ],
      "metadata": {
        "colab": {
          "base_uri": "https://localhost:8080/"
        },
        "id": "KVegJsRmOKRT",
        "outputId": "7d684b3e-759d-46d3-8dcd-c29e2830b898"
      },
      "execution_count": 23,
      "outputs": [
        {
          "output_type": "stream",
          "name": "stdout",
          "text": [
            "<class 'pandas.core.frame.DataFrame'>\n",
            "Index: 140000 entries, 68286 to 157724\n",
            "Data columns (total 37 columns):\n",
            " #   Column                           Non-Null Count   Dtype  \n",
            "---  ------                           --------------   -----  \n",
            " 0   Gender                           140000 non-null  int64  \n",
            " 1   Age                              140000 non-null  int64  \n",
            " 2   Transaction_Amount               140000 non-null  float64\n",
            " 3   Account_Balance                  140000 non-null  float64\n",
            " 4   Account_Type_Business            140000 non-null  int64  \n",
            " 5   Account_Type_Checking            140000 non-null  int64  \n",
            " 6   Account_Type_Savings             140000 non-null  int64  \n",
            " 7   Merchant_Category_Clothing       140000 non-null  int64  \n",
            " 8   Merchant_Category_Electronics    140000 non-null  int64  \n",
            " 9   Merchant_Category_Entertainment  140000 non-null  int64  \n",
            " 10  Merchant_Category_Groceries      140000 non-null  int64  \n",
            " 11  Merchant_Category_Health         140000 non-null  int64  \n",
            " 12  Merchant_Category_Restaurant     140000 non-null  int64  \n",
            " 13  Transaction_Type_Bill Payment    140000 non-null  int64  \n",
            " 14  Transaction_Type_Credit          140000 non-null  int64  \n",
            " 15  Transaction_Type_Debit           140000 non-null  int64  \n",
            " 16  Transaction_Type_Transfer        140000 non-null  int64  \n",
            " 17  Transaction_Type_Withdrawal      140000 non-null  int64  \n",
            " 18  Device_Type_ATM                  140000 non-null  int64  \n",
            " 19  Device_Type_Desktop              140000 non-null  int64  \n",
            " 20  Device_Type_Mobile               140000 non-null  int64  \n",
            " 21  Device_Type_POS                  140000 non-null  int64  \n",
            " 22  City_Chandigarh                  140000 non-null  int64  \n",
            " 23  City_Kavaratti                   140000 non-null  int64  \n",
            " 24  City_Udaipur                     140000 non-null  int64  \n",
            " 25  City_Other                       140000 non-null  int64  \n",
            " 26  DayOfWeek                        140000 non-null  int32  \n",
            " 27  DayOfWeek_sin                    140000 non-null  float64\n",
            " 28  DayOfWeek_cos                    140000 non-null  float64\n",
            " 29  Minutes_After_Midnight           140000 non-null  int64  \n",
            " 30  Time_sin                         140000 non-null  float64\n",
            " 31  Time_cos                         140000 non-null  float64\n",
            " 32  Balance_to_Amount_Ratio          140000 non-null  float64\n",
            " 33  State_TE                         140000 non-null  float64\n",
            " 34  Transaction_Device_TE            140000 non-null  float64\n",
            " 35  Transaction_Location_TE          140000 non-null  float64\n",
            " 36  Transaction_Description_TE       140000 non-null  float64\n",
            "dtypes: float64(11), int32(1), int64(25)\n",
            "memory usage: 44.1 MB\n",
            "None\n"
          ]
        }
      ]
    },
    {
      "cell_type": "markdown",
      "source": [
        "## Log-Transformation for Account_Balance"
      ],
      "metadata": {
        "id": "fG5HyqSSWQ7P"
      }
    },
    {
      "cell_type": "code",
      "source": [
        "# Log-transformation for Account_Balance\n",
        "X_train[\"Account_Balance_Log\"] = np.log1p(X_train[\"Account_Balance\"])\n",
        "X_val[\"Account_Balance_Log\"] = np.log1p(X_val[\"Account_Balance\"])\n",
        "X_test[\"Account_Balance_Log\"] = np.log1p(X_test[\"Account_Balance\"])"
      ],
      "metadata": {
        "id": "kF5keANkQO7X"
      },
      "execution_count": 24,
      "outputs": []
    },
    {
      "cell_type": "markdown",
      "source": [
        "# SMOTE for Class Imbalance"
      ],
      "metadata": {
        "id": "8Uh5_EA5WqTs"
      }
    },
    {
      "cell_type": "code",
      "source": [
        "# Initialise SMOTE\n",
        "smote = SMOTE(random_state=42, sampling_strategy='auto')\n",
        "\n",
        "# Apply SMOTE\n",
        "X_train_resampled, y_train_resampled = smote.fit_resample(X_train, y_train)\n",
        "\n",
        "print(\"Before SMOTE:\", Counter(y_train))\n",
        "print(\"After SMOTE:\", Counter(y_train_resampled))"
      ],
      "metadata": {
        "colab": {
          "base_uri": "https://localhost:8080/"
        },
        "id": "IJPpL9bb5HHJ",
        "outputId": "b50f0a46-7507-4d4a-e604-21514dcc99a1"
      },
      "execution_count": 25,
      "outputs": [
        {
          "output_type": "stream",
          "name": "stdout",
          "text": [
            "Before SMOTE: Counter({0: 132938, 1: 7062})\n",
            "After SMOTE: Counter({0: 132938, 1: 132938})\n"
          ]
        }
      ]
    },
    {
      "cell_type": "markdown",
      "source": [
        "# Save to csv\n"
      ],
      "metadata": {
        "id": "eIELEO4M43UR"
      }
    },
    {
      "cell_type": "code",
      "source": [
        "# Training set (resampled)\n",
        "X_train_resampled.to_csv(\"X_train_resampled.csv\", index=False)\n",
        "y_train_resampled.to_csv(\"y_train_resampled.csv\", index=False)\n",
        "\n",
        "# Validation set\n",
        "X_val.to_csv(\"X_val.csv\", index=False)\n",
        "y_val.to_csv(\"y_val.csv\", index=False)\n",
        "\n",
        "# Test set\n",
        "X_test.to_csv(\"X_test.csv\", index=False)\n",
        "y_test.to_csv(\"y_test.csv\", index=False)\n"
      ],
      "metadata": {
        "id": "yX-ndLP2Wp7U"
      },
      "execution_count": 26,
      "outputs": []
    }
  ]
}